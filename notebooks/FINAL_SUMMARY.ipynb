{
 "cells": [
  {
   "cell_type": "markdown",
   "metadata": {},
   "source": ["# HealthAI – Summary Dashboard"]
  },
  {
   "cell_type": "code",
   "metadata": {},
   "source": [
    "import json, pandas as pd, pathlib as P\n",
    "tab = json.loads(P.Path('artifacts/tabular/metrics_tabular.json').read_text())\n",
    "pd.DataFrame([{\n",
    "  'clf_accuracy': tab.get('clf',{}).get('val_accuracy'),\n",
    "  'clf_f1': tab.get('clf',{}).get('val_f1'),\n",
    "  'clf_auc': tab.get('clf',{}).get('val_roc_auc'),\n",
    "  'reg_rmse': tab.get('reg',{}).get('val_rmse'),\n",
    "  'reg_r2': tab.get('reg',{}).get('val_r2')\n",
    "}])"
   ],
   "outputs": [],
   "execution_count": null
  }
 ],
 "metadata": {
  "kernelspec": {"display_name":"healthai","language":"python","name":"healthai"},
  "language_info": {"name":"python"}
 },
 "nbformat": 4,
 "nbformat_minor": 5
}
