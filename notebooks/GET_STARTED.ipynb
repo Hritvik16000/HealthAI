{
 "cells": [
  {
   "cell_type": "markdown",
   "metadata": {},
   "source": [
    "# HealthAI"
   ]
  },
  {
   "cell_type": "code",
   "execution_count": null,
   "metadata": {},
   "outputs": [],
   "source": [
    "import mlflow, os\n",
    "\n",
    "mlflow.set_tracking_uri(os.getenv(\"MLFLOW_TRACKING_URI\", \"mlruns\"))\n",
    "mlflow.set_experiment(\"healthai\")\n",
    "print(\"ready\")"
   ]
  }
 ],
 "metadata": {
  "kernelspec": {
   "display_name": "healthai",
   "language": "python",
   "name": "healthai"
  },
  "language_info": {
   "name": "python"
  }
 },
 "nbformat": 4,
 "nbformat_minor": 5
}
